{
 "cells": [
  {
   "cell_type": "markdown",
   "id": "d8a96873-ba9c-4d32-a5dc-226b622a0971",
   "metadata": {},
   "source": [
    "# Fragen\n",
    "Unter https://creativecommons.tankerkoenig.de/ kannst du sämtliche Preise der deutschen Tankstellen abfragen. Diese Daten stehen öffentlich zur Verfügung.\n",
    "\n",
    "1. Welches ist die südlichste Tankstelle Deutschlands?\n",
    "2. Wie hoch war 2022 der höchste Preis für E10?\n",
    "3. Wo gab es vorgestern den günstigsten Diesel?\n",
    "4. Überlege Dir welche Analysen man mit den Daten noch alles machen könnte? Nenne mindestens zwei Möglichkeiten\n",
    "\n",
    "# Vorüberlegungen\n",
    "## Extrahieren\n",
    "Es gib drei Möglichkeiten über https://creativecommons.tankerkoenig.de/ an die benötigten Daten zu kommen:\n",
    "\n",
    "- API-Abfragen:\n",
    "    - Umkreissuche\n",
    "    - Preisabfrage für einzelne Tankstellen\n",
    "    - Detailabfrage für einzelne Tankstellen\n",
    "    - P: keine historischen Daten für Frage 2\n",
    "    - P: für Frage 1 und 3 müsste man so lange API-Abfragen machen, bis man die südlichste Tankstelle bzw. den günstigsten Diesel gefunden hat. Laut Webseite soll man aber maximal alle 5min eine API-Abfrage machen und unnötige Belastung vermeiden.\n",
    "- Postgres Dump für aktuelle und historische Daten\n",
    "    - P: ziemlich viele Daten, die ich nicht brauche, weil Pakete mehrere Jahre enthalten (z.B.2020-2023)\n",
    "    - P: Link hat leider gestern nicht funktioniert\n",
    "- CSV Daten auf Azure Cloud\n",
    "\n",
    "## Transformation\n",
    "Pandas oder PySpark?\n",
    "\n",
    "- Pandas: schnelles Setup\n",
    "- PySpark: schnellere Verarbeitung\n",
    "\n",
    "## Laden\n",
    "Das Hochladen in eine PostgreSQL-Datenbank wäre sinnvoll, wenn weitere Analysen der Daten gewollt wären\n",
    "\n",
    "# Setup\n",
    "Ich habe ein Github Repository erstellt und es auf meinem Rechner dupliziert\n"
   ]
  },
  {
   "cell_type": "code",
   "execution_count": 2,
   "id": "0fd90e17-3005-4cd7-b7ec-c350a1bf2e33",
   "metadata": {},
   "outputs": [
    {
     "ename": "SyntaxError",
     "evalue": "invalid syntax (618463036.py, line 1)",
     "output_type": "error",
     "traceback": [
      "\u001b[0;36m  Cell \u001b[0;32mIn[2], line 1\u001b[0;36m\u001b[0m\n\u001b[0;31m    git clone https://github.com/Jeahy/tankstellenkoenig.git\u001b[0m\n\u001b[0m        ^\u001b[0m\n\u001b[0;31mSyntaxError\u001b[0m\u001b[0;31m:\u001b[0m invalid syntax\n"
     ]
    }
   ],
   "source": [
    "git clone https://github.com/Jeahy/tankstellenkoenig.git"
   ]
  },
  {
   "cell_type": "markdown",
   "id": "cbfc5399-2743-4f82-9d5b-0c3c93adcc2f",
   "metadata": {},
   "source": [
    "eine Virtuelle Umgebung für Python erstellt und sie aktiviert"
   ]
  },
  {
   "cell_type": "code",
   "execution_count": null,
   "id": "5f19c848-0470-44d8-82c6-c0843b8cff55",
   "metadata": {},
   "outputs": [],
   "source": [
    "virtualenv tkvenv\n",
    "source tkvenv/bin/activate"
   ]
  },
  {
   "cell_type": "markdown",
   "id": "9c24a3a4-4315-469c-9caf-8e52b1ac7b00",
   "metadata": {},
   "source": []
  }
 ],
 "metadata": {
  "kernelspec": {
   "display_name": "Python 3 (ipykernel)",
   "language": "python",
   "name": "python3"
  },
  "language_info": {
   "codemirror_mode": {
    "name": "ipython",
    "version": 3
   },
   "file_extension": ".py",
   "mimetype": "text/x-python",
   "name": "python",
   "nbconvert_exporter": "python",
   "pygments_lexer": "ipython3",
   "version": "3.12.0"
  }
 },
 "nbformat": 4,
 "nbformat_minor": 5
}
